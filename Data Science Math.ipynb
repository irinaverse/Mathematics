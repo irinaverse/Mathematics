{
 "cells": [
  {
   "cell_type": "code",
   "execution_count": 1,
   "id": "73f534b7",
   "metadata": {},
   "outputs": [],
   "source": [
    "%matplotlib inline"
   ]
  },
  {
   "cell_type": "code",
   "execution_count": 2,
   "id": "8af7b179",
   "metadata": {},
   "outputs": [],
   "source": [
    "import math\n",
    "import random\n",
    "import numpy as np\n",
    "import matplotlib.pyplot as plt"
   ]
  },
  {
   "cell_type": "code",
   "execution_count": 3,
   "id": "7c6db97f",
   "metadata": {},
   "outputs": [],
   "source": [
    "import scipy.stats as st\n",
    "import scipy.stats as ss\n",
    "from scipy.stats import norm"
   ]
  },
  {
   "cell_type": "markdown",
   "id": "4636fa97",
   "metadata": {},
   "source": [
    "<p style = \"text-align: right; font-size: 13px; color: seagreen\" > document design: Irina Nedyalkova <br/> inedyalkova152025@gmail.com"
   ]
  },
  {
   "cell_type": "markdown",
   "id": "1b42ecbb",
   "metadata": {},
   "source": [
    "<p style=\"font-size: 21.5px; color: seagreen; text-align: center\"> Data Science Math"
   ]
  },
  {
   "cell_type": "markdown",
   "id": "8bbe5696",
   "metadata": {},
   "source": [
    "The Scientific Method Steps:"
   ]
  },
  {
   "cell_type": "markdown",
   "id": "e303508a",
   "metadata": {},
   "source": [
    "> Ask a question $\\rightarrow$ Do some research $\\rightarrow$ Form a hypothesis $\\rightarrow$ Test the hypothesis with an experiment $\\rightarrow$ If the result aligns with the hypothesis $\\rightarrow$ OK $\\rightarrow$ If the result does not align with the hypothesis $\\rightarrow$ Ask a new question $\\rightarrow$ and Form a new hypothesis $\\rightarrow$ Report results"
   ]
  },
  {
   "cell_type": "markdown",
   "id": "4c590486",
   "metadata": {},
   "source": [
    "The Scientific Method is useful when we are exploring something new, a new algorithm or a new codebase. A function is a process."
   ]
  },
  {
   "cell_type": "markdown",
   "id": "f7641069",
   "metadata": {},
   "source": [
    "1. Exponential capacities have the shape $$ y = ae^{bx} $$ where:\n",
    "- $a$, $b$ - constants\n",
    "- $e$ - Euler's number (approx. 2.71828)\n",
    "- $x$ - the free variable\n",
    "2. The $exp()$ function in Python calculates the exponential value with the base set to $e$:"
   ]
  },
  {
   "cell_type": "code",
   "execution_count": 4,
   "id": "65242b2c",
   "metadata": {},
   "outputs": [],
   "source": [
    "e = math.exp(1)    # Euler's number ** 1"
   ]
  },
  {
   "cell_type": "code",
   "execution_count": 5,
   "id": "225a48ef",
   "metadata": {},
   "outputs": [
    {
     "data": {
      "text/plain": [
       "2.718281828459045"
      ]
     },
     "execution_count": 5,
     "metadata": {},
     "output_type": "execute_result"
    }
   ],
   "source": [
    "e"
   ]
  },
  {
   "cell_type": "code",
   "execution_count": 6,
   "id": "b299eb1f",
   "metadata": {},
   "outputs": [
    {
     "data": {
      "text/plain": [
       "7.38905609893065"
      ]
     },
     "execution_count": 6,
     "metadata": {},
     "output_type": "execute_result"
    }
   ],
   "source": [
    "math.exp(2)   # Euler's number ** 2"
   ]
  },
  {
   "cell_type": "markdown",
   "id": "01feac8f",
   "metadata": {},
   "source": [
    "> Power means exponent, the 2 in $x^2$"
   ]
  },
  {
   "cell_type": "markdown",
   "id": "43a4b12a",
   "metadata": {},
   "source": [
    "The native $pow()$ function returns integer values and the $math.pow()$ function returns a floating number:"
   ]
  },
  {
   "cell_type": "code",
   "execution_count": 7,
   "id": "51d71fd1",
   "metadata": {},
   "outputs": [
    {
     "data": {
      "text/plain": [
       "25"
      ]
     },
     "execution_count": 7,
     "metadata": {},
     "output_type": "execute_result"
    }
   ],
   "source": [
    "pow(5, 2)    # first number is the base, second number is the exponent(power)"
   ]
  },
  {
   "cell_type": "code",
   "execution_count": 8,
   "id": "ba9720a9",
   "metadata": {},
   "outputs": [
    {
     "data": {
      "text/plain": [
       "121"
      ]
     },
     "execution_count": 8,
     "metadata": {},
     "output_type": "execute_result"
    }
   ],
   "source": [
    "pow(11, 2)"
   ]
  },
  {
   "cell_type": "code",
   "execution_count": 9,
   "id": "47efe387",
   "metadata": {},
   "outputs": [
    {
     "data": {
      "text/plain": [
       "25.0"
      ]
     },
     "execution_count": 9,
     "metadata": {},
     "output_type": "execute_result"
    }
   ],
   "source": [
    "math.pow(5, 2)     # floating numbers are Python numbers, more precise"
   ]
  },
  {
   "cell_type": "code",
   "execution_count": 10,
   "id": "95b27842",
   "metadata": {},
   "outputs": [
    {
     "data": {
      "text/plain": [
       "121.0"
      ]
     },
     "execution_count": 10,
     "metadata": {},
     "output_type": "execute_result"
    }
   ],
   "source": [
    "math.pow(11, 2)"
   ]
  },
  {
   "cell_type": "markdown",
   "id": "950cbc05",
   "metadata": {},
   "source": [
    "We have also manual functions which we create and can call many times, again and again..."
   ]
  },
  {
   "cell_type": "code",
   "execution_count": 11,
   "id": "26073faa",
   "metadata": {},
   "outputs": [],
   "source": [
    "# square is the name of this function\n",
    "\n",
    "def square(x):\n",
    "    return x ** 2   # x^2 = x ** 2"
   ]
  },
  {
   "cell_type": "code",
   "execution_count": 12,
   "id": "5d5e3c38",
   "metadata": {},
   "outputs": [
    {
     "data": {
      "text/plain": [
       "25"
      ]
     },
     "execution_count": 12,
     "metadata": {},
     "output_type": "execute_result"
    }
   ],
   "source": [
    "square(5)"
   ]
  },
  {
   "cell_type": "code",
   "execution_count": 13,
   "id": "81c76ea4",
   "metadata": {},
   "outputs": [
    {
     "data": {
      "text/plain": [
       "100"
      ]
     },
     "execution_count": 13,
     "metadata": {},
     "output_type": "execute_result"
    }
   ],
   "source": [
    "square(10)"
   ]
  },
  {
   "cell_type": "code",
   "execution_count": 14,
   "id": "39fb74ff",
   "metadata": {},
   "outputs": [
    {
     "data": {
      "text/plain": [
       "121"
      ]
     },
     "execution_count": 14,
     "metadata": {},
     "output_type": "execute_result"
    }
   ],
   "source": [
    "square(11)"
   ]
  },
  {
   "cell_type": "markdown",
   "id": "a1c20e37",
   "metadata": {},
   "source": [
    "And there is $lambda$. Lambda is once in a lifetime function, no name, no future, just a single line of a statement:"
   ]
  },
  {
   "cell_type": "code",
   "execution_count": 15,
   "id": "aaec673b",
   "metadata": {},
   "outputs": [],
   "source": [
    "# lambda x: means the input   # (x + 3) means the output\n",
    "\n",
    "add_three = lambda x: x + 3"
   ]
  },
  {
   "cell_type": "code",
   "execution_count": 16,
   "id": "e7325f7d",
   "metadata": {},
   "outputs": [
    {
     "data": {
      "text/plain": [
       "6"
      ]
     },
     "execution_count": 16,
     "metadata": {},
     "output_type": "execute_result"
    }
   ],
   "source": [
    "add_three(3)"
   ]
  },
  {
   "cell_type": "code",
   "execution_count": 17,
   "id": "b1fdecae",
   "metadata": {},
   "outputs": [
    {
     "data": {
      "text/plain": [
       "18"
      ]
     },
     "execution_count": 17,
     "metadata": {},
     "output_type": "execute_result"
    }
   ],
   "source": [
    "add_three(15)"
   ]
  },
  {
   "cell_type": "markdown",
   "id": "d17cf71f",
   "metadata": {},
   "source": [
    "1. The $domain$ of a function are the inputs accepted by the function.\n",
    "2. $Codomain$ of a function are the destinations or available outputs by the function."
   ]
  },
  {
   "cell_type": "markdown",
   "id": "160b68d1",
   "metadata": {},
   "source": [
    "The $NumPy$ library is the core library for scientific computing in Python. It provides a high-performance multidimensional tools for working with arrays and processing those arrays. Arrays are containers of data which are able to store more than one value at a time:"
   ]
  },
  {
   "cell_type": "code",
   "execution_count": 18,
   "id": "af68a624",
   "metadata": {},
   "outputs": [
    {
     "data": {
      "text/plain": [
       "array([0., 0., 0.])"
      ]
     },
     "execution_count": 18,
     "metadata": {},
     "output_type": "execute_result"
    }
   ],
   "source": [
    "np.zeros(3)"
   ]
  },
  {
   "cell_type": "code",
   "execution_count": 19,
   "id": "ebd74d28",
   "metadata": {},
   "outputs": [
    {
     "data": {
      "text/plain": [
       "array([[0., 0., 0.],\n",
       "       [0., 0., 0.]])"
      ]
     },
     "execution_count": 19,
     "metadata": {},
     "output_type": "execute_result"
    }
   ],
   "source": [
    "np.zeros((2, 3))"
   ]
  },
  {
   "cell_type": "code",
   "execution_count": 20,
   "id": "30850787",
   "metadata": {},
   "outputs": [
    {
     "data": {
      "text/plain": [
       "array([[2, 2, 2, 2],\n",
       "       [2, 2, 2, 2],\n",
       "       [2, 2, 2, 2]])"
      ]
     },
     "execution_count": 20,
     "metadata": {},
     "output_type": "execute_result"
    }
   ],
   "source": [
    "np.full((3, 4), 2)        # 3 rows, 4 columns of 2s"
   ]
  },
  {
   "cell_type": "code",
   "execution_count": 21,
   "id": "a68b9b26",
   "metadata": {},
   "outputs": [
    {
     "data": {
      "text/plain": [
       "array([[ 1,  2,  3,  4],\n",
       "       [ 7,  8,  9, 10]])"
      ]
     },
     "execution_count": 21,
     "metadata": {},
     "output_type": "execute_result"
    }
   ],
   "source": [
    "np.array([(1, 2, 3, 4), (7, 8, 9, 10)])"
   ]
  },
  {
   "cell_type": "markdown",
   "id": "aa0141f6",
   "metadata": {},
   "source": [
    "Comprehension:"
   ]
  },
  {
   "cell_type": "code",
   "execution_count": 22,
   "id": "68dc9efc",
   "metadata": {},
   "outputs": [
    {
     "data": {
      "text/plain": [
       "[0, 1, 2, 3, 4, 5, 6, 7, 8, 9]"
      ]
     },
     "execution_count": 22,
     "metadata": {},
     "output_type": "execute_result"
    }
   ],
   "source": [
    "[x for x in range(10)]               # Python does not include the last number"
   ]
  },
  {
   "cell_type": "code",
   "execution_count": 23,
   "id": "f14e54ce",
   "metadata": {},
   "outputs": [
    {
     "data": {
      "text/plain": [
       "[0, 1, 2, 3, 4, 5, 6, 7, 8, 9, 10]"
      ]
     },
     "execution_count": 23,
     "metadata": {},
     "output_type": "execute_result"
    }
   ],
   "source": [
    "[x for x in range(10 + 1)]"
   ]
  },
  {
   "cell_type": "markdown",
   "id": "13a716ed",
   "metadata": {},
   "source": [
    "$Matplotlib$ is also a library in Python and an excellent tool for data visualization:"
   ]
  },
  {
   "cell_type": "code",
   "execution_count": 24,
   "id": "6288f87f",
   "metadata": {},
   "outputs": [
    {
     "data": {
      "image/png": "[encoded data removed]",
      "text/plain": [
       "<Figure size 500x300 with 1 Axes>"
      ]
     },
     "metadata": {},
     "output_type": "display_data"
    }
   ],
   "source": [
    "x = np.linspace(-3, 4, 50)\n",
    "y = np.linspace(-3, 4, 50)\n",
    "\n",
    "plt.figure(figsize = (5, 3))\n",
    "plt.scatter(x, y, s = 4, color = \"mediumseagreen\")             # scatter tells the story by dot(s)\n",
    "plt.show()"
   ]
  },
  {
   "cell_type": "code",
   "execution_count": 25,
   "id": "d8999825",
   "metadata": {},
   "outputs": [
    {
     "data": {
      "image/png": "[encoded data removed]",
      "text/plain": [
       "<Figure size 500x300 with 1 Axes>"
      ]
     },
     "metadata": {},
     "output_type": "display_data"
    }
   ],
   "source": [
    "x = np.linspace(-3, 4, 50)\n",
    "y = np.linspace(-3, 4, 50)\n",
    "\n",
    "plt.figure(figsize = (5, 3))\n",
    "plt.plot(x, y, color = \"mediumseagreen\")                       # plot tells the story by line(s)\n",
    "plt.show()"
   ]
  },
  {
   "cell_type": "markdown",
   "id": "f4405289",
   "metadata": {},
   "source": [
    "<p style=\"color: #d9534f\"> The formulas here... </p>"
   ]
  },
  {
   "cell_type": "markdown",
   "id": "837bf6ba",
   "metadata": {},
   "source": [
    "Equation of a line: $$y = ax + b$$"
   ]
  },
  {
   "cell_type": "markdown",
   "id": "f0f14286",
   "metadata": {},
   "source": [
    "Roots of the quadratic equation $ax^2 + bx + c = 0$: \\begin{equation} x_{1,2} = \\frac{-b\\pm\\sqrt{b^2 - 4ac}}{2a} \\end{equation}"
   ]
  },
  {
   "cell_type": "markdown",
   "id": "187ae3ca",
   "metadata": {},
   "source": [
    "Taylor series expansion: \\begin{equation} f(x)|_{x=a} = f(a) + f'(a)(x-a) + \\frac{f''(a)}{2!}{(x-a)}^2 + \\cdots + \\frac{f^{(n)}(a)}{n!} {(x-a)}^n + \\cdots \\end{equation}"
   ]
  },
  {
   "cell_type": "markdown",
   "id": "bd1d984b",
   "metadata": {},
   "source": [
    "Binomial theorem: \\begin{equation} (x+y)^{n} = \\binom{n}{0} x^n y^0 + \\binom{n}{1} x^{n-1}y^1 + \\cdots + \\binom{n}{n} x^0 y^n = \\sum_{k=0}^{n} \\binom{n}{k} x^{n-k} y^k \\end{equation}"
   ]
  },
  {
   "cell_type": "markdown",
   "id": "edd58f16",
   "metadata": {},
   "source": [
    "An integral: $$\\int_{-\\infty}^{+\\infty}e^{-x^2}dx = \\sqrt{\\pi}$$"
   ]
  },
  {
   "cell_type": "markdown",
   "id": "ea4f0b8d",
   "metadata": {},
   "source": [
    "<p style=\"color: #d9534f; text-align: right\"> ...are math poetry, dear. </p>"
   ]
  },
  {
   "cell_type": "markdown",
   "id": "61f608cb",
   "metadata": {},
   "source": [
    "Vectors in 2D Coordinate Space:\n",
    "- Physics definition of a vector - a pointed segment in space\n",
    "- Computer Science definition - a list of numbers\n",
    "- Math definition - vectors can be added and multiplied by numbers and other vectors"
   ]
  },
  {
   "cell_type": "markdown",
   "id": "0b96265c",
   "metadata": {},
   "source": [
    "Spaces:\n",
    "- $2D$ has $x$-axis (real) and $y$-axis (imaginary)\n",
    "- $3D$ has $x$, $y$, $z$ (length, width, height)\n",
    "- in $4D$ we add time ($t$), an event in space and time"
   ]
  },
  {
   "cell_type": "markdown",
   "id": "8d456a6c",
   "metadata": {},
   "source": [
    "$Vector$ $Spaces$. Finding yourself in space. We must have a sort of horizon, in our case, it is the $zero$.\n",
    "- dimensions = length\n",
    "- many dimensions = tensor\n",
    "- scalar = a single value"
   ]
  },
  {
   "cell_type": "code",
   "execution_count": 26,
   "id": "206c390b",
   "metadata": {},
   "outputs": [],
   "source": [
    "A = np.array([\n",
    "    [2, 3, 7],\n",
    "    [8, 9, 1]\n",
    "])"
   ]
  },
  {
   "cell_type": "code",
   "execution_count": 27,
   "id": "b7b452f5",
   "metadata": {},
   "outputs": [],
   "source": [
    "B = np.array([\n",
    "    [1, -3, 0],\n",
    "    [2, -4, 1]\n",
    "])"
   ]
  },
  {
   "cell_type": "code",
   "execution_count": 28,
   "id": "df03bfcb",
   "metadata": {},
   "outputs": [
    {
     "data": {
      "text/plain": [
       "array([[ 3,  0,  7],\n",
       "       [10,  5,  2]])"
      ]
     },
     "execution_count": 28,
     "metadata": {},
     "output_type": "execute_result"
    }
   ],
   "source": [
    "A + B                    # vector + vector [2+1, 3+(-3), 7+0], [8+2, 9+(-4), 1+1]"
   ]
  },
  {
   "cell_type": "code",
   "execution_count": 29,
   "id": "a15820ad",
   "metadata": {},
   "outputs": [
    {
     "data": {
      "text/plain": [
       "array([[ 4,  6, 14],\n",
       "       [16, 18,  2]])"
      ]
     },
     "execution_count": 29,
     "metadata": {},
     "output_type": "execute_result"
    }
   ],
   "source": [
    "A * 2                       # vector * scalar [2*2, 3*2, 7*2], [8*2, 9*2, 1*2]"
   ]
  },
  {
   "cell_type": "code",
   "execution_count": 30,
   "id": "a4067a40",
   "metadata": {},
   "outputs": [
    {
     "data": {
      "text/plain": [
       "array([[  2,  -9,   0],\n",
       "       [ 16, -36,   1]])"
      ]
     },
     "execution_count": 30,
     "metadata": {},
     "output_type": "execute_result"
    }
   ],
   "source": [
    "A * B                          #  vector * vector [2*1, 3*(-3), 7*0], [8*2, 9*(-4), 1*1]"
   ]
  },
  {
   "cell_type": "markdown",
   "id": "6a21a348",
   "metadata": {},
   "source": [
    "> We multiply two vectors and the outer product is a $matrix$."
   ]
  },
  {
   "cell_type": "code",
   "execution_count": 31,
   "id": "2bed13fa",
   "metadata": {},
   "outputs": [],
   "source": [
    "# row vector\n",
    "\n",
    "x = np.array([[2, 3, 4]])"
   ]
  },
  {
   "cell_type": "code",
   "execution_count": 32,
   "id": "3058c32c",
   "metadata": {},
   "outputs": [],
   "source": [
    "# column vector\n",
    "\n",
    "y = np.array([[5], [-2], [3]])"
   ]
  },
  {
   "cell_type": "code",
   "execution_count": 33,
   "id": "64582784",
   "metadata": {},
   "outputs": [
    {
     "data": {
      "text/plain": [
       "array([[2, 3, 4]])"
      ]
     },
     "execution_count": 33,
     "metadata": {},
     "output_type": "execute_result"
    }
   ],
   "source": [
    "x"
   ]
  },
  {
   "cell_type": "code",
   "execution_count": 34,
   "id": "cbf45080",
   "metadata": {},
   "outputs": [
    {
     "data": {
      "text/plain": [
       "array([[ 5],\n",
       "       [-2],\n",
       "       [ 3]])"
      ]
     },
     "execution_count": 34,
     "metadata": {},
     "output_type": "execute_result"
    }
   ],
   "source": [
    "y"
   ]
  },
  {
   "cell_type": "code",
   "execution_count": 35,
   "id": "38aa4364",
   "metadata": {},
   "outputs": [
    {
     "data": {
      "text/plain": [
       "(1, 3)"
      ]
     },
     "execution_count": 35,
     "metadata": {},
     "output_type": "execute_result"
    }
   ],
   "source": [
    "# 1 row, 3 columns\n",
    "\n",
    "x.shape"
   ]
  },
  {
   "cell_type": "code",
   "execution_count": 36,
   "id": "9eda5d5f",
   "metadata": {},
   "outputs": [
    {
     "data": {
      "text/plain": [
       "(3, 1)"
      ]
     },
     "execution_count": 36,
     "metadata": {},
     "output_type": "execute_result"
    }
   ],
   "source": [
    "# 3 rows, 1 column\n",
    "\n",
    "y.shape"
   ]
  },
  {
   "cell_type": "code",
   "execution_count": 37,
   "id": "f8db5a28",
   "metadata": {},
   "outputs": [
    {
     "data": {
      "text/plain": [
       "array([[10, 15, 20],\n",
       "       [-4, -6, -8],\n",
       "       [ 6,  9, 12]])"
      ]
     },
     "execution_count": 37,
     "metadata": {},
     "output_type": "execute_result"
    }
   ],
   "source": [
    "x * y                       # [2*5, 3*5, 4*5], [2*(-2), 3*(-2), 4*(-2)], [2*3, 3*3, 4*3]"
   ]
  },
  {
   "cell_type": "code",
   "execution_count": 38,
   "id": "4832d402",
   "metadata": {},
   "outputs": [
    {
     "data": {
      "text/plain": [
       "array([[16]])"
      ]
     },
     "execution_count": 38,
     "metadata": {},
     "output_type": "execute_result"
    }
   ],
   "source": [
    "x.dot(y)    # dot product - this is not the number 16, it is the matrix 16"
   ]
  },
  {
   "cell_type": "code",
   "execution_count": 39,
   "id": "6cf979d4",
   "metadata": {},
   "outputs": [
    {
     "data": {
      "text/plain": [
       "array([[10, 15, 20],\n",
       "       [-4, -6, -8],\n",
       "       [ 6,  9, 12]])"
      ]
     },
     "execution_count": 39,
     "metadata": {},
     "output_type": "execute_result"
    }
   ],
   "source": [
    "y.dot(x)     # outer product (matrix)"
   ]
  },
  {
   "cell_type": "markdown",
   "id": "72c22c09",
   "metadata": {},
   "source": [
    "Machine Intelligence sees numbers arranged in matrices. It learns most through diversity. Humans follow the process and set the tone."
   ]
  },
  {
   "cell_type": "markdown",
   "id": "e8ed9750",
   "metadata": {},
   "source": [
    "$Matrix$ $Determinant$ (matrix diagonal) - when we interpret matrices as a movement, there is a sense in which some matrices stretch space out and others squeeze it in. This scaling factor has a name: the determinant."
   ]
  },
  {
   "cell_type": "code",
   "execution_count": 40,
   "id": "c0f2a352",
   "metadata": {},
   "outputs": [],
   "source": [
    "determinant = 1   # normal unit space"
   ]
  },
  {
   "cell_type": "markdown",
   "id": "8a27e3d1",
   "metadata": {},
   "source": [
    "- d < 1 matrix squeezes things in\n",
    "- d < 0 matrix flips the orientation (mirroring)\n",
    "- d = 0 matrix shrinks the space so much, they flatten the entire grid on to a single line\n",
    "- d = 1 matrix does not stretch things out or squeeze them in, but can rotate\n",
    "- d > 1 matrix stretches thing out"
   ]
  },
  {
   "cell_type": "code",
   "execution_count": 41,
   "id": "88203d48",
   "metadata": {},
   "outputs": [],
   "source": [
    "square_matrix = np.array([[1, 3], [5, 4]])    # same number rows & columns"
   ]
  },
  {
   "cell_type": "code",
   "execution_count": 42,
   "id": "dbf3abcc",
   "metadata": {},
   "outputs": [
    {
     "data": {
      "text/plain": [
       "array([[1, 3],\n",
       "       [5, 4]])"
      ]
     },
     "execution_count": 42,
     "metadata": {},
     "output_type": "execute_result"
    }
   ],
   "source": [
    "square_matrix    # 2d = ad - bc = 1*4 - 3*5 = -11          # ad-bc = criss-cross"
   ]
  },
  {
   "cell_type": "markdown",
   "id": "a39d1ab8",
   "metadata": {},
   "source": [
    "$The$ $derivative$ is a fundamental tool of calculus that quantifies the sensitivity of change of a function's output with respect to its input:"
   ]
  },
  {
   "cell_type": "markdown",
   "id": "fb968c57",
   "metadata": {},
   "source": [
    "1. The derivative of $$x^n = nx^{n-1}$$"
   ]
  },
  {
   "cell_type": "markdown",
   "id": "c6b0cb70",
   "metadata": {},
   "source": [
    "2. The derivative of $$(x^2)' = 2x$$"
   ]
  },
  {
   "cell_type": "markdown",
   "id": "08fa5b1a",
   "metadata": {},
   "source": [
    "2. The derivative of  $$(x^3)'= 3x^2$$"
   ]
  },
  {
   "cell_type": "markdown",
   "id": "41f873d0",
   "metadata": {},
   "source": [
    "3. The derivative of $$(x^2 + x^3)' = 2x + 3x^2$$"
   ]
  },
  {
   "cell_type": "markdown",
   "id": "2e92d5df",
   "metadata": {},
   "source": [
    "4. The derivative of $$ (x^4 - 3x^3 + 2)' = 4x^3 - 9x^2 $$"
   ]
  },
  {
   "cell_type": "markdown",
   "id": "09f73739",
   "metadata": {},
   "source": [
    "Derivatives = rate of change. They represent slope, so can be used to find maxima or minima of a function. In real life:\n",
    "- to calculate profit and loss in business, using graphs;\n",
    "- to check temperature variation;\n",
    "- to determine the speed or distance, such as km per hour."
   ]
  },
  {
   "cell_type": "markdown",
   "id": "5898645b",
   "metadata": {},
   "source": [
    "*Gradient* *Descent* is an optimization method used for finding local extrema $grad(f)$. It is a combination of a vector and a derivative. If we follow the gradient, we arrive at a maximum and a negative gradient takes us to a minimum. It is an iterative process, we continue to apply until close enough. Important: it is not guaranteed that we will find the global extrema, we may get stuck in a local extremum. Here an example:"
   ]
  },
  {
   "cell_type": "markdown",
   "id": "7dd63942",
   "metadata": {},
   "source": [
    "Find a local minimum of the function $ f(x) = x^4 - 3x^3 + 2 $, start at $x = 6$"
   ]
  },
  {
   "cell_type": "code",
   "execution_count": 43,
   "id": "aa8cce9b",
   "metadata": {},
   "outputs": [
    {
     "name": "stdout",
     "output_type": "stream",
     "text": [
      "The local minimum occurs at: 2.2499646074278457\n"
     ]
    }
   ],
   "source": [
    "x_old = 0\n",
    "x_new = 6\n",
    "\n",
    "step_size = 0.01\n",
    "precision = 0.00001\n",
    "\n",
    "def df(x):\n",
    "    # (x^4 - 3x^3 + 2)' = 4x^3 - 9x^2\n",
    "    y = 4 * x**3 - 9 * x**2               # this is the derivative of f(x)\n",
    "    return y\n",
    "\n",
    "while abs(x_new - x_old) > precision:\n",
    "    x_old = x_new\n",
    "    x_new += -step_size * df(x_old)\n",
    "    \n",
    "print(\"The local minimum occurs at:\", x_new)"
   ]
  },
  {
   "cell_type": "code",
   "execution_count": 44,
   "id": "de66a9cc",
   "metadata": {},
   "outputs": [
    {
     "name": "stdout",
     "output_type": "stream",
     "text": [
      "❤️\n"
     ]
    }
   ],
   "source": [
    "print(\"\\u2764\\ufe0f\")"
   ]
  },
  {
   "cell_type": "markdown",
   "id": "34532e76",
   "metadata": {},
   "source": [
    "Zeno of Elea and his turtle... It is good to have in mind that algorithms prefer tiny steps and small changes. They get confused with big changes at a time."
   ]
  },
  {
   "cell_type": "markdown",
   "id": "780134ed",
   "metadata": {},
   "source": [
    "\\begin{equation} \\lim_{x \\to \\infty} x^2 = \\infty \\end{equation}"
   ]
  },
  {
   "cell_type": "markdown",
   "id": "b77a32a0",
   "metadata": {},
   "source": [
    "> \"Better our aim is infinity and we miss it, than it is too low and we reach it.\" $Michelangelo$ "
   ]
  },
  {
   "cell_type": "code",
   "execution_count": 45,
   "id": "b9cccb4b",
   "metadata": {},
   "outputs": [
    {
     "name": "stdout",
     "output_type": "stream",
     "text": [
      "❤️\n"
     ]
    }
   ],
   "source": [
    "print(\"\\u2764\\ufe0f\")"
   ]
  },
  {
   "cell_type": "markdown",
   "id": "729bf103",
   "metadata": {},
   "source": [
    "$Infinity$ has a different kind of density, volume and inner value. In math we have also $infinitesimal$, infinity small. We sign with $dx$, $dy$, $dp$, $dt$ and so on... It is just another way to write $x$, $y$, $p$, $t$... In limits, we want to get infinitely close."
   ]
  },
  {
   "cell_type": "markdown",
   "id": "7624152e",
   "metadata": {},
   "source": [
    "$$\\lim_{x \\to 3} f(x)$$"
   ]
  },
  {
   "cell_type": "markdown",
   "id": "fe52373f",
   "metadata": {},
   "source": [
    "Limits describe how a function behaves near a point, instead of that point. Infinity big numbers and infinity small numbers are moving numbers, they are not fixed. If we have time $t$ = 3, time is not moving, the time will freeze at point 3, so..."
   ]
  },
  {
   "cell_type": "markdown",
   "id": "913fa87c",
   "metadata": {},
   "source": [
    "...$calculus$ is continuous change:"
   ]
  },
  {
   "cell_type": "markdown",
   "id": "66b131aa",
   "metadata": {},
   "source": [
    "Time freezes at $\\Delta t = 0$"
   ]
  },
  {
   "cell_type": "markdown",
   "id": "4c9f3a11",
   "metadata": {},
   "source": [
    "Time continues to move at $\\Delta t \\to 0$"
   ]
  },
  {
   "cell_type": "markdown",
   "id": "9d53ee51",
   "metadata": {},
   "source": [
    "The sign $ \\Delta $ is the Greek uppercase letter $Delta$ which represents change in some quantity. We use $dt$ which is an infinity small change in $t$:"
   ]
  },
  {
   "cell_type": "markdown",
   "id": "08a93901",
   "metadata": {},
   "source": [
    "$$ v(t) = \\lim_{dt \\to 0} \\dfrac{s(t + dt) - s(t)}{dt} $$"
   ]
  },
  {
   "cell_type": "markdown",
   "id": "f5fe70b0",
   "metadata": {},
   "source": [
    "$dt$ is infinity small time but not $zero$, it still moves. This is the magic of all calculus!"
   ]
  },
  {
   "cell_type": "markdown",
   "id": "0d5b958f",
   "metadata": {},
   "source": [
    "We are modelling the World through wisdom and science. I have found some Shamans-wisdom-notes in my Math Diary, I will share:\n",
    "- Trust the process in the right relationship:\n",
    "    - right relationship with the ancestors (the world DNA)\n",
    "    - right relationship with the feminine/masculine\n",
    "    - right relationship with the cosmos, with the stars, with the skies\n",
    "    - right relationship with our own destiny\n",
    "- When we come in the right relationship with the world, the world becomes right. The nature, the rivers, the trees... they don't stop talking to us. We stop listening. Nature looks for right relationship with everyone. We have to be in right relationship with Nature and everyone within."
   ]
  },
  {
   "cell_type": "markdown",
   "id": "d6ca684b",
   "metadata": {},
   "source": [
    "$Probability$ and $Combinatoric$ - the science of uncertainty, gambling and how to count things:\n",
    "- probability - the scientific method relies on experiments;\n",
    "- random event - a set of outcomes of an experiment;\n",
    "- random variable - an expression whose value is the outcome of an experiment, usually signed with the capital letters X, Y, Z"
   ]
  },
  {
   "cell_type": "markdown",
   "id": "49d4f484",
   "metadata": {},
   "source": [
    "It is not possible to predict the next outcome of a random event but the patterns become more evident with more trials:"
   ]
  },
  {
   "cell_type": "markdown",
   "id": "c583952e",
   "metadata": {},
   "source": [
    "\\begin{equation} p (A) = \\lim_{n \\to \\infty} \\dfrac{m}{n} \\end{equation}"
   ]
  },
  {
   "cell_type": "markdown",
   "id": "ba5b0a4a",
   "metadata": {},
   "source": [
    "where:\n",
    "- $A$ - the probability of the outcome, values between 0 and 1\n",
    "- $m$ - the number of trials we got\n",
    "- $n$ - all the trials, should be an integer ≥ 1"
   ]
  },
  {
   "cell_type": "markdown",
   "id": "c2f500fc",
   "metadata": {},
   "source": [
    "And here we have the probability of the result being in a tiny interval:"
   ]
  },
  {
   "cell_type": "markdown",
   "id": "3e50d9b6",
   "metadata": {},
   "source": [
    "\\begin{equation} dp = \\dfrac{dx}{b - a} \\end{equation}"
   ]
  },
  {
   "cell_type": "markdown",
   "id": "b6d08632",
   "metadata": {},
   "source": [
    "where:\n",
    "- $dp$ - tiny probability\n",
    "- $dx$ - tiny interval\n",
    "- $a$, $b$ - both ends"
   ]
  },
  {
   "cell_type": "markdown",
   "id": "65524764",
   "metadata": {},
   "source": [
    "The Random Function returns a number, selected at random within a range. Randomness has many uses in science, art, statistics, cryptography, gaming, gambling and other fields. For example, some random trials help scientists to test hypotheses or random numbers help in some video games. The numbers may appear random but they are generated using a deterministic algorithm.\n",
    "- random() returns a random floating number between 0 and 1\n",
    "- random.randint()\treturns a random integer between the given range (start, stop)"
   ]
  },
  {
   "cell_type": "code",
   "execution_count": 46,
   "id": "f6e216b9",
   "metadata": {},
   "outputs": [
    {
     "data": {
      "text/plain": [
       "2"
      ]
     },
     "execution_count": 46,
     "metadata": {},
     "output_type": "execute_result"
    }
   ],
   "source": [
    "random.randint(1, 7)     # each run gives a new (random) value"
   ]
  },
  {
   "cell_type": "code",
   "execution_count": 47,
   "id": "6ff038a7",
   "metadata": {},
   "outputs": [],
   "source": [
    "def throw_dice():\n",
    "    return np.random.randint(1, 7)"
   ]
  },
  {
   "cell_type": "code",
   "execution_count": 48,
   "id": "50e6d4e8",
   "metadata": {},
   "outputs": [
    {
     "data": {
      "image/png": "[encoded data removed]",
      "text/plain": [
       "<Figure size 500x300 with 1 Axes>"
      ]
     },
     "metadata": {},
     "output_type": "display_data"
    }
   ],
   "source": [
    "x = [throw_dice() for i in range(100)]\n",
    "\n",
    "plt.figure(figsize = (5, 3))\n",
    "plt.plot(x, linewidth = 1.1, color = \"mediumseagreen\")\n",
    "plt.xlabel(\"trials\", fontsize = \"8\")\n",
    "plt.ylabel(\"dice numbers\", fontsize = \"8\")\n",
    "plt.title(\"throwing dice\", fontsize = \"9\")\n",
    "plt.show()"
   ]
  },
  {
   "cell_type": "markdown",
   "id": "39b4d6ce",
   "metadata": {},
   "source": [
    "And here more options for plotting data. Visualization discovers patterns and relationships within a dataset so we can go more deeply into data analysis. A histogram is a chart that plots the distribution of certain values as a series of bars called bins or classes."
   ]
  },
  {
   "cell_type": "code",
   "execution_count": 49,
   "id": "25ef54e3",
   "metadata": {},
   "outputs": [
    {
     "data": {
      "image/png": "[encoded data removed]",
      "text/plain": [
       "<Figure size 500x300 with 1 Axes>"
      ]
     },
     "metadata": {},
     "output_type": "display_data"
    }
   ],
   "source": [
    "values = np.random.randint(1, 11, 100)\n",
    "\n",
    "plt.figure(figsize = (5, 3))\n",
    "plt.hist(values, color = \"mediumseagreen\", alpha = 0.7)       # alpha is density of color\n",
    "plt.show()"
   ]
  },
  {
   "cell_type": "markdown",
   "id": "7984e863",
   "metadata": {},
   "source": [
    "A box plot is showing data in which a rectangle represents the second and third quartiles, usually with a vertical line inside to indicate the median value. The median value is the middle number in a list of numbers, do not confuse it with the mean, which is the average of the sum of these numbers. The lower and upper quartiles are shown as horizontal lines either side of the rectangle. The information we get is the five number summary which is the minimum, first quartile, median, third quartile and maximum. Box plots are less detailed, they are best for showing the bigger picture."
   ]
  },
  {
   "cell_type": "code",
   "execution_count": 50,
   "id": "4d7e2bad",
   "metadata": {},
   "outputs": [
    {
     "data": {
      "image/png": "[encoded data removed]",
      "text/plain": [
       "<Figure size 500x300 with 1 Axes>"
      ]
     },
     "metadata": {},
     "output_type": "display_data"
    }
   ],
   "source": [
    "plt.figure(figsize = (5, 3))\n",
    "plt.boxplot(values, medianprops = dict(color = \"mediumseagreen\", linewidth = 1.1))\n",
    "plt.show()"
   ]
  },
  {
   "cell_type": "markdown",
   "id": "f70e4642",
   "metadata": {},
   "source": [
    "There are also pie charts for visual analysis. The pie chart shows the relation of each part to the whole and works only when we have a whole amount."
   ]
  },
  {
   "cell_type": "code",
   "execution_count": 51,
   "id": "f591c80a",
   "metadata": {},
   "outputs": [
    {
     "data": {
      "image/png": "[encoded data removed]",
      "text/plain": [
       "<Figure size 500x500 with 1 Axes>"
      ]
     },
     "metadata": {},
     "output_type": "display_data"
    }
   ],
   "source": [
    "# figure size\n",
    "plt.figure(figsize = (5, 5))\n",
    "\n",
    "# part sizes\n",
    "values = [8, 3, 1, 4, 8]\n",
    "explode = (0, 0, 0, 0.1, 0)      # mark the part we want > 0\n",
    "\n",
    "# part names / labels or classes\n",
    "names = \"Sleep\", \"Rituals\", \"Yoga\", \"Study\", \"Work\"\n",
    "\n",
    "# font size of part names\n",
    "fontsize = {\"fontsize\": 9} \n",
    "\n",
    "# part colors\n",
    "colors = [\"lightsteelblue\", \"lightpink\", \"lightcoral\", \"palegreen\", \"bisque\"]\n",
    "\n",
    "# pie chart\n",
    "plt.pie(values, labels = names, colors = colors, explode = explode, textprops = fontsize)\n",
    "plt.title(\"24 of hours:\", fontsize = \"10.5\", loc = \"left\")\n",
    "\n",
    "plt.show()"
   ]
  },
  {
   "cell_type": "markdown",
   "id": "d69289f8",
   "metadata": {},
   "source": [
    "Distribution used for classification and clustering tasks:\n",
    "- Binomial distribution - observing an outcome when performing a series of tests with only two possible outcomes (YES/NO, right/wrong, 0/1).\n",
    "    - binomial - connected two terms expression.\n",
    "- Gaussian distribution:\n",
    "    - $\\mu$ (mu) - mean, the center of a collection of numbers.\n",
    "    - $\\sigma$ (sigma) - standard deviation:\n",
    "        - when sigma low or small - data are clustered tightly around the mean;\n",
    "        - when sigma high or large - data are more spread out.\n",
    "$$ f(x; \\mu, \\sigma) $$\n",
    "- $f$ - function\n",
    "- $x$ - variable of interest\n",
    "- $\\mu$ - the mean of the distribution\n",
    "- $\\sigma$ - the standard deviation"
   ]
  },
  {
   "cell_type": "markdown",
   "id": "dffe33c7",
   "metadata": {},
   "source": [
    "And the $Central$ $Limit$ $Theorem$ is used in surveys. It predicts the characteristics of data by analyzing a sample - the mean of the sample is normally distributed, even if the whole dataset is not normally distributed. This theory can be used in Machine Learning, as well, to make conclusions about the performance of the model. It is perfect for analyzing large data and making tests."
   ]
  },
  {
   "cell_type": "code",
   "execution_count": 52,
   "id": "a8721e22",
   "metadata": {},
   "outputs": [],
   "source": [
    "# probabilities are always in the range 0-1\n",
    "\n",
    "x = np.linspace(0, 1, 2000)"
   ]
  },
  {
   "cell_type": "code",
   "execution_count": 53,
   "id": "83a13edc",
   "metadata": {},
   "outputs": [
    {
     "data": {
      "image/png": "[encoded data removed]",
      "text/plain": [
       "<Figure size 1000x1100 with 8 Axes>"
      ]
     },
     "metadata": {},
     "output_type": "display_data"
    }
   ],
   "source": [
    "# for many plots together, first write the code one by one and then compile together\n",
    "\n",
    "rows = 4 \n",
    "columns = 2\n",
    "plt.figure(figsize = (10, 11))\n",
    "plt.subplots_adjust(top = 1.7, right = 1.5)\n",
    "\n",
    "plt.subplot(rows, columns, 1)\n",
    "y1 = 2*x\n",
    "plt.plot(x, y1, color = \"mediumseagreen\", alpha = 0.8)\n",
    "plt.title(\"$f(x) = 2x$\", fontsize = \"9\")\n",
    "\n",
    "plt.subplot(rows, columns, 2)\n",
    "all_sums_y1 = []\n",
    "for experiment in range(1000):\n",
    "    x_experiment = np.random.rand(25)\n",
    "    y_experiment = 2 * x_experiment\n",
    "    current_sum = np.sum(y_experiment)\n",
    "    all_sums_y1.append(current_sum)\n",
    "plt.hist(all_sums_y1, color = \"mediumseagreen\", alpha = 0.6)\n",
    "plt.title(\"$f(x) = 2x$ / experiment\", fontsize = \"9\")\n",
    "\n",
    "plt.subplot(rows, columns, 3)\n",
    "y2 = 3 * x**2\n",
    "plt.plot(x, y2, color = \"mediumseagreen\", alpha = 0.8)\n",
    "plt.title(\"$f(x) = 3x^2$\", fontsize = \"9\")\n",
    "\n",
    "plt.subplot(rows, columns, 4)\n",
    "all_sums_y2 = []\n",
    "for experiment in range(1000):\n",
    "    x_experiment = np.random.rand(25)\n",
    "    y_experiment = 3 * x_experiment ** 2\n",
    "    current_sum = np.sum(y_experiment)\n",
    "    all_sums_y2.append(current_sum)\n",
    "plt.hist(all_sums_y2, color = \"mediumseagreen\", alpha = 0.6)\n",
    "plt.title(\"$f(x) = 3x^2$ / experiment\", fontsize = \"9\")\n",
    "\n",
    "plt.subplot(rows, columns, 5)\n",
    "y3 = 4 * np.abs(x - 0.5)\n",
    "plt.plot(x, y3, color = \"mediumseagreen\", alpha = 0.8)\n",
    "plt.title(\"$f(x) = 4|x - 0,5|$\", fontsize = \"9\")\n",
    "\n",
    "plt.subplot(rows, columns, 6)\n",
    "all_sums_y3 = []\n",
    "for experiment in range(1000):\n",
    "    x_experiment = np.random.rand(25)\n",
    "    y_experiment = 4 * np.abs(x_experiment - 0.5)\n",
    "    current_sum = np.sum(y_experiment)\n",
    "    all_sums_y3.append(current_sum)\n",
    "plt.hist(all_sums_y3, color = \"mediumseagreen\", alpha = 0.6)\n",
    "plt.title(\"$f(x) = 4|x - 0,5|$ experiment\", fontsize = \"9\")\n",
    "\n",
    "plt.subplot(rows, columns, 7)\n",
    "y4 = 2 - 4 * np.abs(x - 0.5)\n",
    "plt.plot(x, y4, color = \"mediumseagreen\", alpha = 0.8)\n",
    "plt.title(\"$f(x) = 2 - 4|x - 0,5|$\", fontsize = \"9\")\n",
    "\n",
    "plt.subplot(rows, columns, 8)\n",
    "all_sums_y4 = []\n",
    "for experiment in range(1000):\n",
    "    x_experiment = np.random.rand(25)\n",
    "    y_experiment = 2 - 4 * np.abs(x_experiment - 0.5)\n",
    "    current_sum = np.sum(y_experiment)\n",
    "    all_sums_y4.append(current_sum)\n",
    "plt.hist(all_sums_y4, color = \"mediumseagreen\", alpha = 0.6)\n",
    "plt.title(\"$f(x) = 2 - 4|x - 0,5|$ experiment\", fontsize = \"9\")\n",
    "\n",
    "plt.show()"
   ]
  },
  {
   "cell_type": "markdown",
   "id": "da39ad1c",
   "metadata": {},
   "source": [
    "You see, the Central Limit Theorem tells us that no matter what functions do we have, their sum is distributed according to the normal distribution, also called Gaussian Distribution. We take random samples from a large dataset and the sample means will always follow Gaussian Distribution."
   ]
  },
  {
   "cell_type": "markdown",
   "id": "b20c2de2",
   "metadata": {},
   "source": [
    "$Confidence$ $Interval$ - a probability that a parameter will fall between a set of values. The confidence interval formula is a way to calculate uncertainty in a given experiment. The most common confidence level is 95%, but other levels such as 90% or 99% can also be used."
   ]
  },
  {
   "cell_type": "markdown",
   "id": "f274090f",
   "metadata": {},
   "source": [
    "$$ CI = \\bar{x} \\pm z\\frac{s}{\\sqrt{n}} $$"
   ]
  },
  {
   "cell_type": "markdown",
   "id": "19b34dfc",
   "metadata": {},
   "source": [
    "where:\n",
    "- $CI$ = confidence interval\n",
    "- $\\bar{x}$ = sample mean\n",
    "- $z$ = confidence level value\n",
    "- $s$ = sample standard deviation\n",
    "- $n$ = sample size"
   ]
  },
  {
   "cell_type": "markdown",
   "id": "0fdf011d",
   "metadata": {},
   "source": [
    "Probability ($p$) or alpha ($\\alpha$) is the level used to compute the confidence level. The confidence level equals 100*(1 - probability)%, in other words, an alpha of 0.05 indicates a 95% confidence level:\n",
    "- 100*(1 - $p$)%\n",
    "- $p$ = 0.05 if confidence level is 95%"
   ]
  },
  {
   "cell_type": "markdown",
   "id": "75cb6589",
   "metadata": {},
   "source": [
    "A cumulative distribution function (cdf) tells us the probability that a random variable takes on a value \"less than\" or \"equal\". Here an exmaple to calculate the probability that a random variable takes on a value, less than 1.96, in a standard normal distribution:"
   ]
  },
  {
   "cell_type": "code",
   "execution_count": 54,
   "id": "f51ac96b",
   "metadata": {},
   "outputs": [
    {
     "data": {
      "text/plain": [
       "0.9750021048517795"
      ]
     },
     "execution_count": 54,
     "metadata": {},
     "output_type": "execute_result"
    }
   ],
   "source": [
    "norm.cdf(1.96)"
   ]
  },
  {
   "cell_type": "markdown",
   "id": "a06472bf",
   "metadata": {},
   "source": [
    "...or find the probability that a random variable takes on a value, greater than 1.96, by subtracting this value from 1:"
   ]
  },
  {
   "cell_type": "code",
   "execution_count": 55,
   "id": "e29f0048",
   "metadata": {},
   "outputs": [
    {
     "data": {
      "text/plain": [
       "0.024997895148220484"
      ]
     },
     "execution_count": 55,
     "metadata": {},
     "output_type": "execute_result"
    }
   ],
   "source": [
    "1 - norm.cdf(1.96)"
   ]
  },
  {
   "cell_type": "markdown",
   "id": "02effcba",
   "metadata": {},
   "source": [
    "Please, remember that, the total probability always equals one ($ p = 1 $) and $1.96$ $z$-score always means 95% confident."
   ]
  },
  {
   "cell_type": "markdown",
   "id": "5794a4fd",
   "metadata": {},
   "source": [
    "The probability that a random variables takes on a value < 1.96 in a standard normal distribution, is roughly 0.975 and the probability that a random variables takes on a value > 1.96 in a standard normal distribution, is roughly 0.025."
   ]
  },
  {
   "cell_type": "code",
   "execution_count": 56,
   "id": "0c966745",
   "metadata": {},
   "outputs": [
    {
     "data": {
      "image/png": "[encoded data removed]",
      "text/plain": [
       "<Figure size 500x350 with 1 Axes>"
      ]
     },
     "metadata": {},
     "output_type": "display_data"
    }
   ],
   "source": [
    "plt.figure(figsize = (5, 3.5))\n",
    "\n",
    "x = np.linspace(-3, 3, 1000)\n",
    "y = ss.norm.cdf(x)\n",
    "\n",
    "plt.plot(x, y, color = \"mediumseagreen\")\n",
    "\n",
    "plt.axvline(1.96, lw = 1, color = \"yellow\")\n",
    "plt.axhline(0.975, lw = 1, color = \"yellow\")\n",
    "\n",
    "point = 1.96\n",
    "plt.plot(point, ss.norm.cdf(point), \"yo\")      # \"yo\" is color of the point, yellow + o\n",
    "\n",
    "plt.title(\"normal cdf\", size = 10)\n",
    "plt.xlabel(\"x-axis\", size = 8)\n",
    "plt.ylabel(\"cumulative probability\", size = 8)\n",
    "\n",
    "plt.show()"
   ]
  },
  {
   "cell_type": "markdown",
   "id": "3dfb2d6a",
   "metadata": {},
   "source": [
    "The $x$-axis follows a standard normal distribution and the $y$-axis shows the probability that a random variable takes on a value less than the value shown on the $x$-axis. In our case x = 1.96 and we see that the cumulative probability that $x$ is less than $1.96$ is roughly $0.975$ on the $y$-axis."
   ]
  },
  {
   "cell_type": "markdown",
   "id": "665d1072",
   "metadata": {},
   "source": [
    "In probability the 97.5th percentile point of the standard normal distribution is a number commonly used for statistical calculations. The approximate value of this point is 1.96, meaning that 95% of the area under a normal curve lies within approximately 1.96 standard deviations of the mean. Because of the Central Limit Theorem, this number is used in the construction of approximate 95% confidence intervals."
   ]
  },
  {
   "cell_type": "markdown",
   "id": "499863de",
   "metadata": {},
   "source": [
    "Python libraries are working behind the scenes, therefore, the code is fast and compact."
   ]
  },
  {
   "cell_type": "markdown",
   "id": "a7ec0591",
   "metadata": {},
   "source": [
    "____________________________________________________________________________________________________________________________"
   ]
  }
 ],
 "metadata": {
  "kernelspec": {
   "display_name": "Python 3 (ipykernel)",
   "language": "python",
   "name": "python3"
  },
  "language_info": {
   "codemirror_mode": {
    "name": "ipython",
    "version": 3
   },
   "file_extension": ".py",
   "mimetype": "text/x-python",
   "name": "python",
   "nbconvert_exporter": "python",
   "pygments_lexer": "ipython3",
   "version": "3.9.13"
  }
 },
 "nbformat": 4,
 "nbformat_minor": 5
}
